{
  "nbformat": 4,
  "nbformat_minor": 0,
  "metadata": {
    "colab": {
      "name": "OCR_Python libraries.ipynb",
      "provenance": [],
      "mount_file_id": "18Rd6EfotSkFSMuNJBtFo-y-3innrP1zh",
      "authorship_tag": "ABX9TyOr8UlK84xMWUwcegbNQRGF",
      "include_colab_link": true
    },
    "kernelspec": {
      "name": "python3",
      "display_name": "Python 3"
    },
    "language_info": {
      "name": "python"
    }
  },
  "cells": [
    {
      "cell_type": "markdown",
      "metadata": {
        "id": "view-in-github",
        "colab_type": "text"
      },
      "source": [
        "<a href=\"https://colab.research.google.com/github/abhiramikc/python/blob/main/OCR_Python_libraries.ipynb\" target=\"_parent\"><img src=\"https://colab.research.google.com/assets/colab-badge.svg\" alt=\"Open In Colab\"/></a>"
      ]
    },
    {
      "cell_type": "markdown",
      "metadata": {
        "id": "ZUjj50QNG5v_"
      },
      "source": [
        
      ]
    },
    {
      "cell_type": "code",
      "metadata": {
        "colab": {
          "base_uri": "https://localhost:8080/"
        },
        "id": "VJjdjLSC3IzD",
        "outputId": "de285202-a9c4-4961-ab57-ec477d89ec74"
      },
      "source": [
        "from google.colab import drive\n",
        "drive.mount('/content/drive')"
      ],
      "execution_count": null,
      "outputs": [
        {
          "output_type": "stream",
          "text": [
            "Mounted at /content/drive\n"
          ],
          "name": "stdout"
        }
      ]
    },
    {
      "cell_type": "markdown",
      "metadata": {
        "id": "o9oi42--IC-3"
      },
      "source": [
        "#pyPDF2"
      ]
    },
    {
      "cell_type": "code",
      "metadata": {
        "colab": {
          "base_uri": "https://localhost:8080/"
        },
        "id": "IxfPN7fA3fTv",
        "outputId": "d5c454df-8c23-440c-c32d-5bf2b7fa53f6"
      },
      "source": [
        "!pip install PyPDF2"
      ],
      "execution_count": null,
      "outputs": [
        {
          "output_type": "stream",
          "text": [
            "Collecting PyPDF2\n",
            "\u001b[?25l  Downloading https://files.pythonhosted.org/packages/b4/01/68fcc0d43daf4c6bdbc6b33cc3f77bda531c86b174cac56ef0ffdb96faab/PyPDF2-1.26.0.tar.gz (77kB)\n",
            "\r\u001b[K     |████▎                           | 10kB 9.5MB/s eta 0:00:01\r\u001b[K     |████████▌                       | 20kB 13.3MB/s eta 0:00:01\r\u001b[K     |████████████▊                   | 30kB 11.2MB/s eta 0:00:01\r\u001b[K     |█████████████████               | 40kB 9.7MB/s eta 0:00:01\r\u001b[K     |█████████████████████▏          | 51kB 5.7MB/s eta 0:00:01\r\u001b[K     |█████████████████████████▍      | 61kB 6.5MB/s eta 0:00:01\r\u001b[K     |█████████████████████████████▋  | 71kB 6.0MB/s eta 0:00:01\r\u001b[K     |████████████████████████████████| 81kB 2.6MB/s \n",
            "\u001b[?25hBuilding wheels for collected packages: PyPDF2\n",
            "  Building wheel for PyPDF2 (setup.py) ... \u001b[?25l\u001b[?25hdone\n",
            "  Created wheel for PyPDF2: filename=PyPDF2-1.26.0-cp37-none-any.whl size=61085 sha256=f7d02491f66c1473a7ef7762fbee8d3c10b7d2a10a37379f46b54bf65b2b9be1\n",
            "  Stored in directory: /root/.cache/pip/wheels/53/84/19/35bc977c8bf5f0c23a8a011aa958acd4da4bbd7a229315c1b7\n",
            "Successfully built PyPDF2\n",
            "Installing collected packages: PyPDF2\n",
            "Successfully installed PyPDF2-1.26.0\n"
          ],
          "name": "stdout"
        }
      ]
    },
    {
      "cell_type": "code",
      "metadata": {
        "id": "yW9qCRGG2q5f"
      },
      "source": [
        "import PyPDF2\n",
        "\n",
        "with open(\"/content/drive/MyDrive/Acinvoice.pdf\", \"rb\") as f:\n",
        "  reader = PyPDF2.PdfFileReader(f)\n",
        "  page = reader.getPage(0)\n",
        "  text = page.extractText()"
      ],
      "execution_count": null,
      "outputs": []
    },
    {
      "cell_type": "code",
      "metadata": {
        "id": "DbvA4u5L5TNR"
      },
      "source": [
        "/content/table.pdf"
      ],
      "execution_count": null,
      "outputs": []
    },
    {
      "cell_type": "code",
      "metadata": {
        "colab": {
          "base_uri": "https://localhost:8080/",
          "height": 171
        },
        "id": "utguihqO3YwG",
        "outputId": "3d8777f1-b40d-49d9-99f8-c67000a24524"
      },
      "source": [
        "text\n"
      ],
      "execution_count": null,
      "outputs": [
        {
          "output_type": "execute_result",
          "data": {
            "application/vnd.google.colaboratory.intrinsic+json": {
              "type": "string"
            },
            "text/plain": [
              "' Tax Invoice/Bill of Supply/Cash Memo(Original for Recipient)*ASSPL-Amazon Seller Services Pvt. Ltd., ARIPL-Amazon Retail India Pvt. Ltd. (only where Amazon Retail India Pvt. Ltd. fulfillment center is co-located) Customers desirous of availing input GST credit are requested to create a Business account and purchase on Amazon.in/business from Business eligible offers Please note that this invoice is not a demand for paymentPage 1 of 1For Cloudtail India Private Limited:Authorized SignatoryOrder Number: 405-6447634-1681147Invoice Number : IN-SCJB-139237Order Date: 20.03.2021Invoice Details : TN-SCJB-1004-2021Invoice Date : 20.03.2021Sl.NoDescriptionUnit PriceQtyNetAmountTaxRateTaxTypeTaxAmountTotalAmountSanyo 1 Ton 3 Star Inverter Split AC (Copper, PM 2.5Filter, 2020 Model, SI/SO-10T3SCIC White) |B084WC45CJ ( B084WC45CJ ) HSN:84151010IGSTTOTAL:Amount in Words:Twenty-five Thousand Nine Hundred Ninety onlyWhether tax is payable under reverse charge - NoSold By :Cloudtail India Private Limited* TCI Warehouse, Unit 1, Sf No-496/A, 497,Mopperipalayam, Village,Post-Kaduvettipalayam,Karumathampatti,Palladam TalukCoimbatore, Tamil Nadu, 641659INPAN No: AAQCS4259QGST Registration No: 33AAQCS4259Q1ZHBilling Address :Abhiramikizhakkethil house, desamangalamDESAMANGALAM, KERALA, 679532INState/UT Code: 32Shipping Address :Abhirami Abhiramikizhakkethil house, desamangalamDESAMANGALAM, KERALA, 679532INState/UT Code: 32 Place of supply: KERALA Place of delivery: KERALA'"
            ]
          },
          "metadata": {
            "tags": []
          },
          "execution_count": 13
        }
      ]
    },
    {
      "cell_type": "code",
      "metadata": {
        "id": "TulNfvV75Wc1"
      },
      "source": [
        "import PyPDF2\n",
        "\n",
        "with open(\"/content/table.pdf\", \"rb\") as f:\n",
        "  reader = PyPDF2.PdfFileReader(f)\n",
        "  page = reader.getPage(0)\n",
        "  text = page.extractText()"
      ],
      "execution_count": null,
      "outputs": []
    },
    {
      "cell_type": "code",
      "metadata": {
        "colab": {
          "base_uri": "https://localhost:8080/",
          "height": 86
        },
        "id": "9Z3Vq1SH5Xaf",
        "outputId": "4eacc2d7-4a8c-4499-de8d-998f3d2cb2e9"
      },
      "source": [
        "text"
      ],
      "execution_count": null,
      "outputs": [
        {
          "output_type": "execute_result",
          "data": {
            "application/vnd.google.colaboratory.intrinsic+json": {
              "type": "string"
            },
            "text/plain": [
              "'Example table\\n This is an example of a data table.\\n Disability \\nCategory\\n Participants\\n Ballots \\nCompleted\\n Ballots \\nIncomplete/\\n Terminated\\n Results\\n Accuracy\\n Time to \\ncomplete\\n Blind\\n 5 1 4 34.5%, n=1\\n 1199 sec, n=1\\n Low Vision\\n 5 \\n2 \\n3 \\n98.3% n=2\\n (97.7%, n=3)\\n 1716 \\nsec, n=3\\n (1934 sec, n=2)\\n Dexterity\\n 5 \\n4 \\n1 \\n98.3%, n=4\\n 1672.1 sec, n=4\\n Mobility\\n 3 \\n3 \\n0 \\n95.4%, n=3\\n 1416 sec, n=3\\n  '"
            ]
          },
          "metadata": {
            "tags": []
          },
          "execution_count": 17
        }
      ]
    },
    {
      "cell_type": "markdown",
      "metadata": {
        "id": "SdOikRiZIHtF"
      },
      "source": [
        "#PDFMINER"
      ]
    },
    {
      "cell_type": "code",
      "metadata": {
        "colab": {
          "base_uri": "https://localhost:8080/"
        },
        "id": "3ljakBRcFYdJ",
        "outputId": "643f47fa-9c1a-41f0-8d49-e9d21bd9572d"
      },
      "source": [
        "!pip install pdfminer.six"
      ],
      "execution_count": null,
      "outputs": [
        {
          "output_type": "stream",
          "text": [
            "Collecting pdfminer.six\n",
            "\u001b[?25l  Downloading https://files.pythonhosted.org/packages/93/f3/4fec7dabe8802ebec46141345bf714cd1fc7d93cb74ddde917e4b6d97d88/pdfminer.six-20201018-py3-none-any.whl (5.6MB)\n",
            "\u001b[K     |████████████████████████████████| 5.6MB 5.3MB/s \n",
            "\u001b[?25hRequirement already satisfied: sortedcontainers in /usr/local/lib/python3.7/dist-packages (from pdfminer.six) (2.3.0)\n",
            "Requirement already satisfied: chardet; python_version > \"3.0\" in /usr/local/lib/python3.7/dist-packages (from pdfminer.six) (3.0.4)\n",
            "Collecting cryptography\n",
            "\u001b[?25l  Downloading https://files.pythonhosted.org/packages/b2/26/7af637e6a7e87258b963f1731c5982fb31cd507f0d90d91836e446955d02/cryptography-3.4.7-cp36-abi3-manylinux2014_x86_64.whl (3.2MB)\n",
            "\u001b[K     |████████████████████████████████| 3.2MB 35.8MB/s \n",
            "\u001b[?25hRequirement already satisfied: cffi>=1.12 in /usr/local/lib/python3.7/dist-packages (from cryptography->pdfminer.six) (1.14.5)\n",
            "Requirement already satisfied: pycparser in /usr/local/lib/python3.7/dist-packages (from cffi>=1.12->cryptography->pdfminer.six) (2.20)\n",
            "Installing collected packages: cryptography, pdfminer.six\n",
            "Successfully installed cryptography-3.4.7 pdfminer.six-20201018\n"
          ],
          "name": "stdout"
        }
      ]
    },
    {
      "cell_type": "code",
      "metadata": {
        "id": "4U3p-FyoE-4B"
      },
      "source": [
        "import sys\n",
        "from pdfminer.converter import PDFPageAggregator\n",
        "from pdfminer.layout import LAParams, LTFigure, LTTextBox\n",
        "from pdfminer.pdfdocument import PDFDocument\n",
        "from pdfminer.pdfinterp import PDFPageInterpreter, PDFResourceManager\n",
        "from pdfminer.pdfpage import PDFPage, PDFTextExtractionNotAllowed\n",
        "from pdfminer.pdfparser import PDFParser\n",
        "\n",
        "text = \"\"\n",
        "stack=[]\n",
        "\n",
        "with open(\"/content/drive/MyDrive/Acinvoice.pdf\", 'rb') as f:\n",
        "    parser = PDFParser(f)\n",
        "    doc = PDFDocument(parser)\n",
        "    page = list(PDFPage.create_pages(doc))[0]\n",
        "    rsrcmgr = PDFResourceManager()\n",
        "    device = PDFPageAggregator(rsrcmgr, laparams=LAParams())\n",
        "    interpreter = PDFPageInterpreter(rsrcmgr, device)\n",
        "    interpreter.process_page(page)\n",
        "    layout = device.get_result()\n",
        "\n",
        "    for obj in layout:\n",
        "        if isinstance(obj, LTTextBox):\n",
        "            text += obj.get_text()\n",
        "\n",
        "        elif isinstance(obj, LTFigure):\n",
        "            stack += list(obj)"
      ],
      "execution_count": null,
      "outputs": []
    },
    {
      "cell_type": "code",
      "metadata": {
        "colab": {
          "base_uri": "https://localhost:8080/",
          "height": 256
        },
        "id": "wwHNLzh5Fq6F",
        "outputId": "ba8b6a54-c7bc-4675-bd1a-bf565e435c13"
      },
      "source": [
        "text"
      ],
      "execution_count": null,
      "outputs": [
        {
          "output_type": "execute_result",
          "data": {
            "application/vnd.google.colaboratory.intrinsic+json": {
              "type": "string"
            },
            "text/plain": [
              "'Tax Invoice/Bill of Supply/Cash Memo\\n \\n(Original for Recipient)\\nSold By :\\nCloudtail India Private Limited\\n* TCI Warehouse, Unit 1, Sf No-496/A, 497,\\nMopperipalayam, Village,\\nPost-Kaduvettipalayam,Karumathampatti,\\nPalladam Taluk\\nCoimbatore, Tamil Nadu, 641659\\nIN\\nPAN No: AAQCS4259Q\\nGST Registration No: 33AAQCS4259Q1ZH\\nOrder Number: 405-6447634-1681147\\nOrder Date: 20.03.2021\\nBilling Address :\\nAbhirami\\nkizhakkethil house, desamangalam\\nDESAMANGALAM, KERALA, 679532\\nIN\\nState/UT Code: 32\\nShipping Address :\\nAbhirami \\nAbhirami\\nkizhakkethil house, desamangalam\\nDESAMANGALAM, KERALA, 679532\\nIN\\nState/UT Code: 32 \\nPlace of supply: KERALA \\nPlace of delivery: KERALA\\nInvoice Number : IN-SCJB-139237\\nInvoice Details : TN-SCJB-1004-2021\\nInvoice Date : 20.03.2021\\nDescription\\nSl.\\nNo\\n1 Sanyo 1 Ton 3 Star Inverter Split AC (Copper, PM 2.5\\nFilter, 2020 Model, SI/SO-10T3SCIC White) |\\nB084WC45CJ ( B084WC45CJ ) \\nHSN:84151010\\nTOTAL:\\nAmount in Words:\\nTwenty-five Thousand Nine Hundred Ninety only\\nUnit Price Qty\\nNet\\nAmount\\nTax\\nRate\\nTax\\nType\\nTax\\nAmount\\nTotal\\nAmount\\n₹20,304.69 1 ₹20,304.69 28% IGST ₹5,685.31 ₹25,990.00\\n₹5,685.31 ₹25,990.00\\nFor Cloudtail India Private Limited:\\nWhether tax is payable under reverse charge - No\\nAuthorized Signatory\\n*ASSPL-Amazon Seller Services Pvt. Ltd., ARIPL-Amazon Retail India Pvt. Ltd. (only where Amazon Retail India Pvt. Ltd. fulfillment center is co-located) \\nCustomers desirous of availing input GST credit are requested to create a Business account and purchase on Amazon.in/business from Business eligible offers \\nPlease note that this invoice is not a demand for payment\\nPage 1 of 1\\n'"
            ]
          },
          "metadata": {
            "tags": []
          },
          "execution_count": 24
        }
      ]
    },
    {
      "cell_type": "code",
      "metadata": {
        "colab": {
          "base_uri": "https://localhost:8080/"
        },
        "id": "N0KVdD0fFryv",
        "outputId": "f0c3193d-c43e-41be-db1a-935d9a235641"
      },
      "source": [
        "stack"
      ],
      "execution_count": null,
      "outputs": [
        {
          "output_type": "execute_result",
          "data": {
            "text/plain": [
              "[<LTImage(img0) 38.250,782.630,240.750,839.630 (665, 200)>]"
            ]
          },
          "metadata": {
            "tags": []
          },
          "execution_count": 25
        }
      ]
    },
    {
      "cell_type": "code",
      "metadata": {
        "id": "5mypjk8RFtEw"
      },
      "source": [
        "import sys\n",
        "from pdfminer.converter import PDFPageAggregator\n",
        "from pdfminer.layout import LAParams, LTFigure, LTTextBox\n",
        "from pdfminer.pdfdocument import PDFDocument\n",
        "from pdfminer.pdfinterp import PDFPageInterpreter, PDFResourceManager\n",
        "from pdfminer.pdfpage import PDFPage, PDFTextExtractionNotAllowed\n",
        "from pdfminer.pdfparser import PDFParser\n",
        "\n",
        "text = \"\"\n",
        "stack=[]\n",
        "\n",
        "with open(\"/content/table.pdf\", 'rb') as f:\n",
        "    parser = PDFParser(f)\n",
        "    doc = PDFDocument(parser)\n",
        "    page = list(PDFPage.create_pages(doc))[0]\n",
        "    rsrcmgr = PDFResourceManager()\n",
        "    device = PDFPageAggregator(rsrcmgr, laparams=LAParams())\n",
        "    interpreter = PDFPageInterpreter(rsrcmgr, device)\n",
        "    interpreter.process_page(page)\n",
        "    layout = device.get_result()\n",
        "\n",
        "    for obj in layout:\n",
        "        if isinstance(obj, LTTextBox):\n",
        "            text += obj.get_text()\n",
        "\n",
        "        elif isinstance(obj, LTFigure):\n",
        "            stack += list(obj)"
      ],
      "execution_count": null,
      "outputs": []
    },
    {
      "cell_type": "code",
      "metadata": {
        "colab": {
          "base_uri": "https://localhost:8080/",
          "height": 86
        },
        "id": "oOKILkIwF6GB",
        "outputId": "4c075f4e-8753-4afa-8746-2d41d99d107d"
      },
      "source": [
        "text"
      ],
      "execution_count": null,
      "outputs": [
        {
          "output_type": "execute_result",
          "data": {
            "application/vnd.google.colaboratory.intrinsic+json": {
              "type": "string"
            },
            "text/plain": [
              "'Example table \\nThis is an example of a data table. \\nDisability \\nCategory \\nParticipants \\nBallots \\nCompleted \\nBallots \\nIncomplete/ \\nTerminated \\nBlind \\nLow Vision \\nDexterity \\nMobility \\n \\n5 \\n5 \\n5 \\n3 \\n1 \\n2 \\n4 \\n3 \\n4 \\n3 \\n1 \\n0 \\nResults \\nAccuracy \\nTime to \\ncomplete \\n34.5%, n=1 \\n1199 sec, n=1 \\n98.3% n=2 \\n1716 sec, n=3 \\n(97.7%, n=3) \\n(1934 sec, n=2) \\n98.3%, n=4 \\n1672.1 sec, n=4 \\n95.4%, n=3 \\n1416 sec, n=3 \\n'"
            ]
          },
          "metadata": {
            "tags": []
          },
          "execution_count": 27
        }
      ]
    },
    {
      "cell_type": "markdown",
      "metadata": {
        "id": "Ko1AmOJZINWO"
      },
      "source": [
        "#PYMUPDF"
      ]
    },
    {
      "cell_type": "code",
      "metadata": {
        "colab": {
          "base_uri": "https://localhost:8080/"
        },
        "id": "GwZVHrV_HrNV",
        "outputId": "ea5fb30e-69e3-43ca-f9e9-d5789483c0cf"
      },
      "source": [
        "!pip install PyMuPDF"
      ],
      "execution_count": null,
      "outputs": [
        {
          "output_type": "stream",
          "text": [
            "Collecting PyMuPDF\n",
            "\u001b[?25l  Downloading https://files.pythonhosted.org/packages/bf/e8/bfd971ed4515fcdc0f7eec374a515f4608b141c62a0fb6949ad8425fb80b/PyMuPDF-1.18.13-cp37-cp37m-manylinux2010_x86_64.whl (6.4MB)\n",
            "\u001b[K     |████████████████████████████████| 6.4MB 5.9MB/s \n",
            "\u001b[?25hInstalling collected packages: PyMuPDF\n",
            "Successfully installed PyMuPDF-1.18.13\n"
          ],
          "name": "stdout"
        }
      ]
    },
    {
      "cell_type": "code",
      "metadata": {
        "id": "d2shqvnIGPuL"
      },
      "source": [
        "import fitz \n",
        "doc = fitz.open(\"/content/table.pdf\")\n",
        "page = doc[0]\n",
        "text = page.getText(\"text\")"
      ],
      "execution_count": null,
      "outputs": []
    },
    {
      "cell_type": "code",
      "metadata": {
        "colab": {
          "base_uri": "https://localhost:8080/",
          "height": 86
        },
        "id": "E_pvOrViF6xc",
        "outputId": "d1f2e142-32ba-461d-bb9c-85aea54fe103"
      },
      "source": [
        "text"
      ],
      "execution_count": null,
      "outputs": [
        {
          "output_type": "execute_result",
          "data": {
            "application/vnd.google.colaboratory.intrinsic+json": {
              "type": "string"
            },
            "text/plain": [
              "'Example table \\nThis is an example of a data table. \\nDisability \\nCategory \\nParticipants \\nBallots \\nCompleted \\nBallots \\nIncomplete/ \\nTerminated \\nResults \\nAccuracy \\nTime to \\ncomplete \\nBlind \\n5 \\n1 \\n4 \\n34.5%, n=1 \\n1199 sec, n=1 \\nLow Vision \\n5 \\n2 \\n3 \\n98.3% n=2 \\n(97.7%, n=3) \\n1716 sec, n=3 \\n(1934 sec, n=2) \\nDexterity \\n5 \\n4 \\n1 \\n98.3%, n=4 \\n1672.1 sec, n=4 \\nMobility \\n3 \\n3 \\n0 \\n95.4%, n=3 \\n1416 sec, n=3 \\n \\n'"
            ]
          },
          "metadata": {
            "tags": []
          },
          "execution_count": 32
        }
      ]
    },
    {
      "cell_type": "code",
      "metadata": {
        "id": "hS9gEQktF8pd"
      },
      "source": [
        "import fitz \n",
        "\n",
        "doc = fitz.open(\"/content/drive/MyDrive/Acinvoice.pdf\")\n",
        "page = doc[0]\n",
        "text = page.getText(\"text\")"
      ],
      "execution_count": null,
      "outputs": []
    },
    {
      "cell_type": "code",
      "metadata": {
        "colab": {
          "base_uri": "https://localhost:8080/",
          "height": 273
        },
        "id": "m8cCSdsLH3Pn",
        "outputId": "333e6706-3d2a-4d90-c3f1-16c4b01fa157"
      },
      "source": [
        "text"
      ],
      "execution_count": null,
      "outputs": [
        {
          "output_type": "execute_result",
          "data": {
            "application/vnd.google.colaboratory.intrinsic+json": {
              "type": "string"
            },
            "text/plain": [
              "' \\nTax Invoice/Bill of Supply/Cash Memo\\n(Original for Recipient)\\n*ASSPL-Amazon Seller Services Pvt. Ltd., ARIPL-Amazon Retail India Pvt. Ltd. (only where Amazon Retail India Pvt. Ltd. fulfillment center is co-located) \\nCustomers desirous of availing input GST credit are requested to create a Business account and purchase on Amazon.in/business from Business eligible offers \\nPlease note that this invoice is not a demand for payment\\nPage 1 of 1\\nFor Cloudtail India Private Limited:\\nAuthorized Signatory\\nOrder Number: 405-6447634-1681147\\nInvoice Number : IN-SCJB-139237\\nOrder Date: 20.03.2021\\nInvoice Details : TN-SCJB-1004-2021\\nInvoice Date : 20.03.2021\\nSl.\\nNo Description\\nUnit Price\\nQty Net\\nAmount\\nTax\\nRate\\nTax\\nType\\nTax\\nAmount\\nTotal\\nAmount\\n1 Sanyo 1 Ton 3 Star Inverter Split AC (Copper, PM 2.5\\nFilter, 2020 Model, SI/SO-10T3SCIC White) |\\nB084WC45CJ ( B084WC45CJ ) \\nHSN:84151010\\n₹20,304.69 1 ₹20,304.69 28% IGST ₹5,685.31 ₹25,990.00\\nTOTAL:\\n₹5,685.31 ₹25,990.00\\nAmount in Words:\\nTwenty-five Thousand Nine Hundred Ninety only\\nWhether tax is payable under reverse charge - No\\nSold By :\\nCloudtail India Private Limited\\n* TCI Warehouse, Unit 1, Sf No-496/A, 497,\\nMopperipalayam, Village,\\nPost-Kaduvettipalayam,Karumathampatti,\\nPalladam Taluk\\nCoimbatore, Tamil Nadu, 641659\\nIN\\nPAN No: AAQCS4259Q\\nGST Registration No: 33AAQCS4259Q1ZH\\nBilling Address :\\nAbhirami\\nkizhakkethil house, desamangalam\\nDESAMANGALAM, KERALA, 679532\\nIN\\nState/UT Code: 32\\nShipping Address :\\nAbhirami \\nAbhirami\\nkizhakkethil house, desamangalam\\nDESAMANGALAM, KERALA, 679532\\nIN\\nState/UT Code: 32 \\nPlace of supply: KERALA \\nPlace of delivery: KERALA\\nDigitally Signed by DS CLOUDTAIL INDIA PRIVATE LIMITED 2\\nDate: 2021.03.20 14:50:13 UTC\\nReason: Invoice\\n'"
            ]
          },
          "metadata": {
            "tags": []
          },
          "execution_count": 34
        }
      ]
    },
    {
      "cell_type": "code",
      "metadata": {
        "id": "6mxZjnVdAkEZ"
      },
      "source": [
        ""
      ],
      "execution_count": null,
      "outputs": []
    },
    {
      "cell_type": "code",
      "metadata": {
        "id": "xR7k1y7BAkHQ"
      },
      "source": [
        ""
      ],
      "execution_count": null,
      "outputs": []
    }
  ]
}
